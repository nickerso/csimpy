{
 "cells": [
  {
   "cell_type": "code",
   "execution_count": 1,
   "id": "0c1fa808-1b2b-4078-878b-7749bd05f94c",
   "metadata": {},
   "outputs": [],
   "source": [
    "import os\n",
    "import tempfile\n",
    "\n",
    "from csimpy import core as csim\n",
    "\n",
    "from biosimulators_utils.config import get_config\n",
    "from biosimulators_utils.report import data_model as report_data_model\n",
    "from biosimulators_utils.viz import data_model as viz_data_model"
   ]
  },
  {
   "cell_type": "code",
   "execution_count": 2,
   "id": "68e0bd21-6673-457f-9745-930d3bac6059",
   "metadata": {},
   "outputs": [],
   "source": [
    "config = get_config()\n",
    "config.REPORT_FORMATS = [report_data_model.ReportFormat.csv]\n",
    "config.VIZ_FORMATS = [viz_data_model.VizFormat.png]\n",
    "config.BUNDLE_OUTPUTS = False\n",
    "config.KEEP_INDIVIDUAL_OUTPUTS = True\n",
    "config.LOG = False\n",
    "config.VERBOSE = False"
   ]
  },
  {
   "cell_type": "code",
   "execution_count": 3,
   "id": "b1d3958c-f23d-4906-978c-6bbd2bb2afad",
   "metadata": {},
   "outputs": [],
   "source": [
    "sedml_root = os.path.join('tests', 'fixtures')\n",
    "sedml_doc = os.path.join(sedml_root, 'sine_approximations_import.sedml')\n",
    "output_root = tempfile.mkdtemp()"
   ]
  },
  {
   "cell_type": "code",
   "execution_count": 6,
   "id": "3879f999-9cf0-49e7-977c-41df2840f203",
   "metadata": {},
   "outputs": [
    {
     "ename": "SedmlExecutionError",
     "evalue": "The SED document did not execute successfully:\n\n  CSimPy failed to instaniate model.\n\n  CSimPy failed to instaniate model.",
     "output_type": "error",
     "traceback": [
      "\u001b[1;31m---------------------------------------------------------------------------\u001b[0m",
      "\u001b[1;31mSedmlExecutionError\u001b[0m                       Traceback (most recent call last)",
      "Cell \u001b[1;32mIn[6], line 1\u001b[0m\n\u001b[1;32m----> 1\u001b[0m results, log \u001b[38;5;241m=\u001b[39m \u001b[43mcsim\u001b[49m\u001b[38;5;241;43m.\u001b[39;49m\u001b[43mexec_sed_doc\u001b[49m\u001b[43m(\u001b[49m\u001b[43msedml_doc\u001b[49m\u001b[43m,\u001b[49m\u001b[43m \u001b[49m\u001b[43msedml_root\u001b[49m\u001b[43m,\u001b[49m\u001b[43m \u001b[49m\u001b[43moutput_root\u001b[49m\u001b[43m,\u001b[49m\u001b[43m \u001b[49m\u001b[43mconfig\u001b[49m\u001b[38;5;241;43m=\u001b[39;49m\u001b[43mconfig\u001b[49m\u001b[43m)\u001b[49m\n",
      "File \u001b[1;32m~\\development\\csim\\csimpy\\csimpy\\core.py:89\u001b[0m, in \u001b[0;36mexec_sed_doc\u001b[1;34m(doc, working_dir, base_out_path, rel_out_path, apply_xml_model_changes, log, indent, pretty_print_modified_xml_models, log_level, config)\u001b[0m\n\u001b[0;32m     85\u001b[0m simulator_config \u001b[38;5;241m=\u001b[39m {\n\u001b[0;32m     86\u001b[0m     \u001b[38;5;124m'\u001b[39m\u001b[38;5;124marchive-root\u001b[39m\u001b[38;5;124m'\u001b[39m: working_dir,\n\u001b[0;32m     87\u001b[0m }\n\u001b[0;32m     88\u001b[0m sed_task_executor \u001b[38;5;241m=\u001b[39m functools\u001b[38;5;241m.\u001b[39mpartial(exec_sed_task, simulator_config\u001b[38;5;241m=\u001b[39msimulator_config)\n\u001b[1;32m---> 89\u001b[0m \u001b[38;5;28;01mreturn\u001b[39;00m \u001b[43mbase_exec_sed_doc\u001b[49m\u001b[43m(\u001b[49m\u001b[43msed_task_executor\u001b[49m\u001b[43m,\u001b[49m\u001b[43m \u001b[49m\u001b[43mdoc\u001b[49m\u001b[43m,\u001b[49m\u001b[43m \u001b[49m\u001b[43mworking_dir\u001b[49m\u001b[43m,\u001b[49m\u001b[43m \u001b[49m\u001b[43mbase_out_path\u001b[49m\u001b[43m,\u001b[49m\n\u001b[0;32m     90\u001b[0m \u001b[43m                         \u001b[49m\u001b[43mrel_out_path\u001b[49m\u001b[38;5;241;43m=\u001b[39;49m\u001b[43mrel_out_path\u001b[49m\u001b[43m,\u001b[49m\n\u001b[0;32m     91\u001b[0m \u001b[43m                         \u001b[49m\u001b[43mapply_xml_model_changes\u001b[49m\u001b[38;5;241;43m=\u001b[39;49m\u001b[43mapply_xml_model_changes\u001b[49m\u001b[43m,\u001b[49m\n\u001b[0;32m     92\u001b[0m \u001b[43m                         \u001b[49m\u001b[43mlog\u001b[49m\u001b[38;5;241;43m=\u001b[39;49m\u001b[43mlog\u001b[49m\u001b[43m,\u001b[49m\n\u001b[0;32m     93\u001b[0m \u001b[43m                         \u001b[49m\u001b[43mindent\u001b[49m\u001b[38;5;241;43m=\u001b[39;49m\u001b[43mindent\u001b[49m\u001b[43m,\u001b[49m\n\u001b[0;32m     94\u001b[0m \u001b[43m                         \u001b[49m\u001b[43mpretty_print_modified_xml_models\u001b[49m\u001b[38;5;241;43m=\u001b[39;49m\u001b[43mpretty_print_modified_xml_models\u001b[49m\u001b[43m,\u001b[49m\n\u001b[0;32m     95\u001b[0m \u001b[43m                         \u001b[49m\u001b[43mlog_level\u001b[49m\u001b[38;5;241;43m=\u001b[39;49m\u001b[43mlog_level\u001b[49m\u001b[43m,\u001b[49m\n\u001b[0;32m     96\u001b[0m \u001b[43m                         \u001b[49m\u001b[43mconfig\u001b[49m\u001b[38;5;241;43m=\u001b[39;49m\u001b[43mconfig\u001b[49m\u001b[43m)\u001b[49m\n",
      "File \u001b[1;32m~\\Envs\\csimpy-clean-install\\lib\\site-packages\\biosimulators_utils\\sedml\\exec.py:378\u001b[0m, in \u001b[0;36mexec_sed_doc\u001b[1;34m(task_executer, doc, working_dir, base_out_path, rel_out_path, apply_xml_model_changes, log, indent, pretty_print_modified_xml_models, log_level, config, get_value_executer, set_value_executer, preprocessed_task_executer, reset_executer)\u001b[0m\n\u001b[0;32m    375\u001b[0m \u001b[38;5;28;01mif\u001b[39;00m exceptions:\n\u001b[0;32m    376\u001b[0m     msg \u001b[38;5;241m=\u001b[39m \u001b[38;5;124m'\u001b[39m\u001b[38;5;124mThe SED document did not execute successfully:\u001b[39m\u001b[38;5;130;01m\\n\u001b[39;00m\u001b[38;5;130;01m\\n\u001b[39;00m\u001b[38;5;124m  \u001b[39m\u001b[38;5;132;01m{}\u001b[39;00m\u001b[38;5;124m'\u001b[39m\u001b[38;5;241m.\u001b[39mformat(\n\u001b[0;32m    377\u001b[0m         \u001b[38;5;124m'\u001b[39m\u001b[38;5;130;01m\\n\u001b[39;00m\u001b[38;5;130;01m\\n\u001b[39;00m\u001b[38;5;124m  \u001b[39m\u001b[38;5;124m'\u001b[39m\u001b[38;5;241m.\u001b[39mjoin(\u001b[38;5;28mstr\u001b[39m(exceptions)\u001b[38;5;241m.\u001b[39mreplace(\u001b[38;5;124m'\u001b[39m\u001b[38;5;130;01m\\n\u001b[39;00m\u001b[38;5;124m'\u001b[39m, \u001b[38;5;124m'\u001b[39m\u001b[38;5;130;01m\\n\u001b[39;00m\u001b[38;5;124m  \u001b[39m\u001b[38;5;124m'\u001b[39m) \u001b[38;5;28;01mfor\u001b[39;00m exceptions \u001b[38;5;129;01min\u001b[39;00m exceptions))\n\u001b[1;32m--> 378\u001b[0m     \u001b[38;5;28;01mraise\u001b[39;00m SedmlExecutionError(msg)\n\u001b[0;32m    380\u001b[0m \u001b[38;5;66;03m# return the results of the reports\u001b[39;00m\n\u001b[0;32m    381\u001b[0m \u001b[38;5;28;01mreturn\u001b[39;00m report_results, log\n",
      "\u001b[1;31mSedmlExecutionError\u001b[0m: The SED document did not execute successfully:\n\n  CSimPy failed to instaniate model.\n\n  CSimPy failed to instaniate model."
     ]
    }
   ],
   "source": [
    "%%capture execution_log\n",
    "results, log = csim.exec_sed_doc(sedml_doc, sedml_root, output_root, config=config)"
   ]
  },
  {
   "cell_type": "code",
   "execution_count": 7,
   "id": "bbd6acd8-97b5-41f9-8c81-f4dfa75903d3",
   "metadata": {},
   "outputs": [],
   "source": [
    "sedml_root = os.path.join('..', 'diabetic-wound-healing', '7ef')\n",
    "sedml_doc = os.path.join(sedml_root, 'waugh_sherratt_2006.sedml')\n",
    "output_root = os.path.join('waugh_sherratt_2006.sedml')"
   ]
  },
  {
   "cell_type": "code",
   "execution_count": 8,
   "id": "5038c53c-ce26-45bf-a9fa-682bfadbd100",
   "metadata": {
    "tags": []
   },
   "outputs": [
    {
     "ename": "SedmlExecutionError",
     "evalue": "The SED document did not execute successfully:\n\n  CSimPy failed to instaniate model.\n\n  CSimPy failed to instaniate model.\n\n  CSimPy failed to instaniate model.",
     "output_type": "error",
     "traceback": [
      "\u001b[1;31m---------------------------------------------------------------------------\u001b[0m",
      "\u001b[1;31mSedmlExecutionError\u001b[0m                       Traceback (most recent call last)",
      "Cell \u001b[1;32mIn[8], line 1\u001b[0m\n\u001b[1;32m----> 1\u001b[0m results, log \u001b[38;5;241m=\u001b[39m \u001b[43mcsim\u001b[49m\u001b[38;5;241;43m.\u001b[39;49m\u001b[43mexec_sed_doc\u001b[49m\u001b[43m(\u001b[49m\u001b[43msedml_doc\u001b[49m\u001b[43m,\u001b[49m\u001b[43m \u001b[49m\u001b[43msedml_root\u001b[49m\u001b[43m,\u001b[49m\u001b[43m \u001b[49m\u001b[43moutput_root\u001b[49m\u001b[43m,\u001b[49m\u001b[43m \u001b[49m\u001b[43mconfig\u001b[49m\u001b[38;5;241;43m=\u001b[39;49m\u001b[43mconfig\u001b[49m\u001b[43m)\u001b[49m\n",
      "File \u001b[1;32m~\\development\\csim\\csimpy\\csimpy\\core.py:89\u001b[0m, in \u001b[0;36mexec_sed_doc\u001b[1;34m(doc, working_dir, base_out_path, rel_out_path, apply_xml_model_changes, log, indent, pretty_print_modified_xml_models, log_level, config)\u001b[0m\n\u001b[0;32m     85\u001b[0m simulator_config \u001b[38;5;241m=\u001b[39m {\n\u001b[0;32m     86\u001b[0m     \u001b[38;5;124m'\u001b[39m\u001b[38;5;124marchive-root\u001b[39m\u001b[38;5;124m'\u001b[39m: working_dir,\n\u001b[0;32m     87\u001b[0m }\n\u001b[0;32m     88\u001b[0m sed_task_executor \u001b[38;5;241m=\u001b[39m functools\u001b[38;5;241m.\u001b[39mpartial(exec_sed_task, simulator_config\u001b[38;5;241m=\u001b[39msimulator_config)\n\u001b[1;32m---> 89\u001b[0m \u001b[38;5;28;01mreturn\u001b[39;00m \u001b[43mbase_exec_sed_doc\u001b[49m\u001b[43m(\u001b[49m\u001b[43msed_task_executor\u001b[49m\u001b[43m,\u001b[49m\u001b[43m \u001b[49m\u001b[43mdoc\u001b[49m\u001b[43m,\u001b[49m\u001b[43m \u001b[49m\u001b[43mworking_dir\u001b[49m\u001b[43m,\u001b[49m\u001b[43m \u001b[49m\u001b[43mbase_out_path\u001b[49m\u001b[43m,\u001b[49m\n\u001b[0;32m     90\u001b[0m \u001b[43m                         \u001b[49m\u001b[43mrel_out_path\u001b[49m\u001b[38;5;241;43m=\u001b[39;49m\u001b[43mrel_out_path\u001b[49m\u001b[43m,\u001b[49m\n\u001b[0;32m     91\u001b[0m \u001b[43m                         \u001b[49m\u001b[43mapply_xml_model_changes\u001b[49m\u001b[38;5;241;43m=\u001b[39;49m\u001b[43mapply_xml_model_changes\u001b[49m\u001b[43m,\u001b[49m\n\u001b[0;32m     92\u001b[0m \u001b[43m                         \u001b[49m\u001b[43mlog\u001b[49m\u001b[38;5;241;43m=\u001b[39;49m\u001b[43mlog\u001b[49m\u001b[43m,\u001b[49m\n\u001b[0;32m     93\u001b[0m \u001b[43m                         \u001b[49m\u001b[43mindent\u001b[49m\u001b[38;5;241;43m=\u001b[39;49m\u001b[43mindent\u001b[49m\u001b[43m,\u001b[49m\n\u001b[0;32m     94\u001b[0m \u001b[43m                         \u001b[49m\u001b[43mpretty_print_modified_xml_models\u001b[49m\u001b[38;5;241;43m=\u001b[39;49m\u001b[43mpretty_print_modified_xml_models\u001b[49m\u001b[43m,\u001b[49m\n\u001b[0;32m     95\u001b[0m \u001b[43m                         \u001b[49m\u001b[43mlog_level\u001b[49m\u001b[38;5;241;43m=\u001b[39;49m\u001b[43mlog_level\u001b[49m\u001b[43m,\u001b[49m\n\u001b[0;32m     96\u001b[0m \u001b[43m                         \u001b[49m\u001b[43mconfig\u001b[49m\u001b[38;5;241;43m=\u001b[39;49m\u001b[43mconfig\u001b[49m\u001b[43m)\u001b[49m\n",
      "File \u001b[1;32m~\\Envs\\csimpy-clean-install\\lib\\site-packages\\biosimulators_utils\\sedml\\exec.py:378\u001b[0m, in \u001b[0;36mexec_sed_doc\u001b[1;34m(task_executer, doc, working_dir, base_out_path, rel_out_path, apply_xml_model_changes, log, indent, pretty_print_modified_xml_models, log_level, config, get_value_executer, set_value_executer, preprocessed_task_executer, reset_executer)\u001b[0m\n\u001b[0;32m    375\u001b[0m \u001b[38;5;28;01mif\u001b[39;00m exceptions:\n\u001b[0;32m    376\u001b[0m     msg \u001b[38;5;241m=\u001b[39m \u001b[38;5;124m'\u001b[39m\u001b[38;5;124mThe SED document did not execute successfully:\u001b[39m\u001b[38;5;130;01m\\n\u001b[39;00m\u001b[38;5;130;01m\\n\u001b[39;00m\u001b[38;5;124m  \u001b[39m\u001b[38;5;132;01m{}\u001b[39;00m\u001b[38;5;124m'\u001b[39m\u001b[38;5;241m.\u001b[39mformat(\n\u001b[0;32m    377\u001b[0m         \u001b[38;5;124m'\u001b[39m\u001b[38;5;130;01m\\n\u001b[39;00m\u001b[38;5;130;01m\\n\u001b[39;00m\u001b[38;5;124m  \u001b[39m\u001b[38;5;124m'\u001b[39m\u001b[38;5;241m.\u001b[39mjoin(\u001b[38;5;28mstr\u001b[39m(exceptions)\u001b[38;5;241m.\u001b[39mreplace(\u001b[38;5;124m'\u001b[39m\u001b[38;5;130;01m\\n\u001b[39;00m\u001b[38;5;124m'\u001b[39m, \u001b[38;5;124m'\u001b[39m\u001b[38;5;130;01m\\n\u001b[39;00m\u001b[38;5;124m  \u001b[39m\u001b[38;5;124m'\u001b[39m) \u001b[38;5;28;01mfor\u001b[39;00m exceptions \u001b[38;5;129;01min\u001b[39;00m exceptions))\n\u001b[1;32m--> 378\u001b[0m     \u001b[38;5;28;01mraise\u001b[39;00m SedmlExecutionError(msg)\n\u001b[0;32m    380\u001b[0m \u001b[38;5;66;03m# return the results of the reports\u001b[39;00m\n\u001b[0;32m    381\u001b[0m \u001b[38;5;28;01mreturn\u001b[39;00m report_results, log\n",
      "\u001b[1;31mSedmlExecutionError\u001b[0m: The SED document did not execute successfully:\n\n  CSimPy failed to instaniate model.\n\n  CSimPy failed to instaniate model.\n\n  CSimPy failed to instaniate model."
     ]
    }
   ],
   "source": [
    "%%capture execution_log\n",
    "results, log = csim.exec_sed_doc(sedml_doc, sedml_root, output_root, config=config)"
   ]
  },
  {
   "cell_type": "code",
   "execution_count": null,
   "id": "d29177e0-8cb3-4005-99c7-f860a514d39a",
   "metadata": {},
   "outputs": [],
   "source": [
    "%matplotlib inline\n",
    "import numpy as np\n",
    "import pandas as pd\n",
    "import matplotlib.pyplot as plt"
   ]
  },
  {
   "cell_type": "code",
   "execution_count": null,
   "id": "b24dc5a9-d32d-4ec8-8577-d508008c874b",
   "metadata": {
    "tags": []
   },
   "outputs": [],
   "source": [
    "plot1 = pd.read_csv('waugh_sherratt_2006.sedml/plot1.csv', index_col=0, header=None).T\n",
    "axs = plot1.plot.line(y='base_model_phi_I', x='base_model_time', label='normal')\n",
    "plot1.plot.line(y='diabetic_model_phi_I', x='diabetic_model_time', label='diabetic', ax=axs)\n",
    "axs.set_ylabel(\"$\\phi_I$ [cells/mm$^3$]\");\n",
    "axs.set_xlabel(\"time [day]\");"
   ]
  },
  {
   "cell_type": "code",
   "execution_count": null,
   "id": "c3360c04-f164-497e-b9cc-5086e3c8af35",
   "metadata": {},
   "outputs": [],
   "source": [
    "plot2 = pd.read_csv('waugh_sherratt_2006.sedml/plot2.csv', index_col=0, header=None).T\n",
    "axs = plot2.plot.line(y='base_model_phi_R', x='base_model_time', label='normal')\n",
    "plot2.plot.line(y='diabetic_model_phi_R', x='diabetic_model_time', label='diabetic', ax=axs)\n",
    "axs.set_ylabel(\"$\\phi_R$ [cells/mm$^3$]\");\n",
    "axs.set_xlabel(\"time [day]\");"
   ]
  },
  {
   "cell_type": "code",
   "execution_count": null,
   "id": "3b4d95cd-5e38-4a9c-a85a-83d9ef6263df",
   "metadata": {},
   "outputs": [],
   "source": [
    "plot3 = pd.read_csv('waugh_sherratt_2006.sedml/plot3.csv', index_col=0, header=None).T\n",
    "axs = plot3.plot.line(y='base_model_TGFb', x='base_model_time', label='normal')\n",
    "plot3.plot.line(y='diabetic_model_TGFb', x='diabetic_model_time', label='diabetic', ax=axs)\n",
    "axs.set_ylabel(\"TGF-$\\\\beta$ [pg/mm$^3$]\");\n",
    "axs.set_xlabel(\"time [day]\");"
   ]
  },
  {
   "cell_type": "code",
   "execution_count": null,
   "id": "0c620c0f-7612-4051-b039-2772e254990e",
   "metadata": {},
   "outputs": [],
   "source": [
    "plot4 = pd.read_csv('waugh_sherratt_2006.sedml/plot4.csv', index_col=0, header=None).T\n",
    "axs = plot4.plot.line(y='diabetic_total_macrophage', x='diabetic_model_time', label='untreated')\n",
    "plot4.plot.line(y='diabetic_with_treatment_total_macrophage', x='diabetic_model_with_treatment_time', label='treated', ax=axs)\n",
    "axs.set_ylabel(\"Total macrophage density [cells/mm$^3$]\");\n",
    "axs.set_xlabel(\"time [day]\");"
   ]
  },
  {
   "cell_type": "code",
   "execution_count": null,
   "id": "007cf158-9794-460c-bdf1-3be8b2604c85",
   "metadata": {},
   "outputs": [],
   "source": [
    "personal_data = {\n",
    "    'cellml_model': os.path.abspath(os.path.join(sedml_root, 'waugh_sherratt_2006.cellml')),\n",
    "    'alpha': 0.5,\n",
    "    'alpha_post_treatment': 0.2,\n",
    "    'treatment_time': 10\n",
    "}\n",
    "\n",
    "from string import Template\n",
    "sedml_template = os.path.join(sedml_root, 'personalised-treatment.sedml.template')\n",
    "with open(sedml_template) as f:\n",
    "    tmpl = f.read()\n",
    "s = Template(tmpl).substitute(personal_data)\n",
    "personalised_sedml_doc = os.path.join(output_root, 'personalised-treatment.sedml')\n",
    "with open(personalised_sedml_doc, 'w') as f:\n",
    "    f.write(s)\n",
    "    f.close()\n",
    "\n"
   ]
  },
  {
   "cell_type": "code",
   "execution_count": null,
   "id": "17b4c208-4a78-42da-9cae-9028e19162f9",
   "metadata": {},
   "outputs": [],
   "source": [
    "%%capture execution_log\n",
    "personalised_output_root = os.path.join(output_root, 'personalised')\n",
    "results, log = csim.exec_sed_doc(personalised_sedml_doc, sedml_root, personalised_output_root, config=config)"
   ]
  },
  {
   "cell_type": "code",
   "execution_count": null,
   "id": "329f3d3f-b7f5-4d1d-9d2b-83d23f4adade",
   "metadata": {},
   "outputs": [],
   "source": [
    "csv = os.path.join(personalised_output_root, 'plot1.csv')\n",
    "plot1 = pd.read_csv(csv, index_col=0, header=None).T\n",
    "axs1 = plot1.plot.line(y='diabetic_model_phi_I', x='diabetic_model_time', label='diabetic')\n",
    "plot1.plot.line(y='p_diabetic_model_phi_I', x='p_diabetic_model_time', label='personalised', ax=axs1)\n",
    "axs1.set_ylabel(\"$\\phi_I$ [cells/mm$^3$]\");\n",
    "axs1.set_xlabel(\"time [day]\");\n",
    "csv = os.path.join(personalised_output_root, 'plot2.csv')\n",
    "plot2 = pd.read_csv(csv, index_col=0, header=None).T\n",
    "axs2 = plot2.plot.line(y='diabetic_model_phi_R', x='diabetic_model_time', label='diabetic')\n",
    "plot2.plot.line(y='p_diabetic_model_phi_R', x='p_diabetic_model_time', label='personalised', ax=axs2)\n",
    "axs2.set_ylabel(\"$\\phi_R$ [cells/mm$^3$]\");\n",
    "axs2.set_xlabel(\"time [day]\");\n",
    "csv = os.path.join(personalised_output_root, 'plot3.csv')\n",
    "plot3 = pd.read_csv(csv, index_col=0, header=None).T\n",
    "axs3 = plot3.plot.line(y='diabetic_model_TGFb', x='diabetic_model_time', label='diabetic')\n",
    "plot3.plot.line(y='p_diabetic_model_TGFb', x='p_diabetic_model_time', label='personalised', ax=axs3)\n",
    "axs3.set_ylabel(\"TGF-$\\\\beta$ [pg/mm$^3$]\");\n",
    "axs3.set_xlabel(\"time [day]\");\n",
    "csv = os.path.join(personalised_output_root, 'plot4.csv')\n",
    "plot4 = pd.read_csv(csv, index_col=0, header=None).T\n",
    "axs4 = plot4.plot.line(y='diabetic_total_macrophage', x='diabetic_model_time', label='diabetic untreated')\n",
    "plot4.plot.line(y='diabetic_with_treatment_total_macrophage', x='diabetic_model_with_treatment_time', label='diabetic treated', ax=axs4)\n",
    "plot4.plot.line(y='p_diabetic_total_macrophage', x='p_diabetic_model_time', label='personalised untreated', ax=axs4)\n",
    "plot4.plot.line(y='p_diabetic_with_treatment_total_macrophage', x='p_diabetic_model_with_treatment_time', label='personalised treated', ax=axs4)\n",
    "axs4.set_ylabel(\"Total macrophage density [cells/mm$^3$]\");\n",
    "axs4.set_xlabel(\"time [day]\");"
   ]
  },
  {
   "cell_type": "code",
   "execution_count": null,
   "id": "c3720b5d-6be3-42b8-b234-8d39a51a59e6",
   "metadata": {},
   "outputs": [],
   "source": []
  }
 ],
 "metadata": {
  "kernelspec": {
   "display_name": "Python 3 (ipykernel)",
   "language": "python",
   "name": "python3"
  },
  "language_info": {
   "codemirror_mode": {
    "name": "ipython",
    "version": 3
   },
   "file_extension": ".py",
   "mimetype": "text/x-python",
   "name": "python",
   "nbconvert_exporter": "python",
   "pygments_lexer": "ipython3",
   "version": "3.9.4"
  }
 },
 "nbformat": 4,
 "nbformat_minor": 5
}
